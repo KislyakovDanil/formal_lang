{
 "cells": [
  {
   "cell_type": "markdown",
   "metadata": {},
   "source": [
    "Кисляков Данил 797, вариант 14\n",
    "***\n",
    "Сначала скачиваем graphviz. Подключаем numpy, collections и graphviz.Digraph.\n",
    "***\n",
    "Лучше используйте conda install python-graphviz вместо pip install graphviz\n",
    "***\n",
    "* Алгоритм:\n",
    "    1. Читаем регулярку в обратной польской записи и слово, разделённые переносом строки БЕЗ ПРОБЕЛОВ\n",
    "    2. Строим НКА\n",
    "    3. Ищем наибольший суфикс слова, используя НКА и рисуем НКА или пишем об ошибке.\n",
    "* Строим НКА:\n",
    "    * Идём по строке регулярки в обратной польской записи\n",
    "        * Прочли 1 -> добавляем вершину\n",
    "        * Прочли a/b/c -> добавляем пару вершин и ребро между ними\n",
    "        * Прочли $*$/./+ -> совершаем соответствующую операцию над 2 (для $*$ -- 1) лежащими в вершине стека подавтоматами и кладём на их место результат применения операции\n",
    "        * Прочли что-то ещё -> кидаем ошибку\n",
    "    * Попутно обрабатываем другие ошибки\n",
    "    * В конце выкидываем лишние вершины (которые были стартовыми при создании пары вершин при чтении a/b/c)\n",
    "* Ищем наибольший суфикс слова:\n",
    "   * Для всех суфиксов слова, от большего к меньшему, пытаемся рекурсивно найти путь из старта в какую-то терминальную вершину по этому суфиксу.\n",
    "   * Если нашли -> возвращаем длину текущего суфикса (наибольший по алгоритму)\n",
    "   * Если не нашли -> пишем INF\n",
    "   * Рекурсия глубины не более (длина суфикса * 2) т.к. по построению НКА у нас не может быть два перехода по 1 подряд\n",
    "* Рисуем НКА:\n",
    "    * Рисуем НКА, используя graphviz.Digraph\n",
    "***\n",
    "На тестах лектора решение верное, автоматы строятся верно, пусть и, возможно, не оптимально"
   ]
  },
  {
   "cell_type": "code",
   "execution_count": 12,
   "metadata": {
    "scrolled": true
   },
   "outputs": [
    {
     "name": "stdout",
     "output_type": "stream",
     "text": [
      "ab+c.aba.*.bac.+.+*\n",
      "babc\n",
      "2\n"
     ]
    }
   ],
   "source": [
    "import numpy as np\n",
    "import collections as coll\n",
    "from graphviz import Digraph\n",
    "\n",
    "\n",
    "class FSA:  # НКА\n",
    "    def __init__(self, reg_exp):\n",
    "        self.error = False  # наличие ошибок во входнй строке\n",
    "        size = len(reg_exp) + 1  # максимальное число вершин в автомате, которое можем получить в процессе построения\n",
    "        self.relations_table = [['0' for i in range(size)] for j in range(size)]  # матрица [from][to] symbol\n",
    "        self.terminals = [False for i in range(size)]  # терминальные вершины\n",
    "        is_start = [False for i in range(size)]  # запоминаем, какие вершины назначили стартами в подавтоматах(позже удалим)\n",
    "        current_max_vert = 0  # текущий максимальный номер вершины\n",
    "        parser = coll.deque()  # стек для чтения обратной польской\n",
    "        first = ()  # пары начало/конец обрабатываемых подавтоматов\n",
    "        second = ()\n",
    "        for symbol in reg_exp:\n",
    "            if symbol == '1':\n",
    "                is_start[current_max_vert] = True\n",
    "                parser.append((current_max_vert, current_max_vert))  # создали вершину\n",
    "                current_max_vert += 1\n",
    "            elif symbol == 'a' or symbol == 'b' or symbol == 'c':\n",
    "                is_start[current_max_vert] = True\n",
    "                parser.append((current_max_vert, current_max_vert + 1))  # пару вершин\n",
    "                self.relations_table[current_max_vert][current_max_vert + 1] = symbol  # соеденили ребром\n",
    "                self.terminals[current_max_vert + 1] = True  # вторая -- терминал\n",
    "                current_max_vert += 2\n",
    "            elif symbol == '*':\n",
    "                if len(parser) == 0:  # недостаточно подавтоматов в стеке\n",
    "                    self.error = True\n",
    "                    break\n",
    "                first = parser.pop()  # вытащили подавтомат из стека\n",
    "                is_start[first[0]] = False  # не нужно удалять, т.к. на неё будут завязаны петли\n",
    "                for i in range(first[0] + 1, first[1] + 1):  # добавляем рёбра из терминальных вершин в стартовую\n",
    "                    if self.terminals[i]:\n",
    "                        self.relations_table[i][first[0]] = '1'\n",
    "                self.terminals[first[0]] = True  # сделали корень терминалом\n",
    "                parser.append((first[0], first[1]))\n",
    "            else:\n",
    "                if len(parser) < 2:  # недостаточно подавтоматов в стеке\n",
    "                    self.error = True\n",
    "                    break\n",
    "                second = parser.pop()  # вытащили подавтоматы из стека\n",
    "                first = parser.pop()\n",
    "                if symbol == '.':\n",
    "                    for i in range(first[0], first[1] + 1):  # провели рёбра из терминальных вершин первого в потомков корня второго\n",
    "                        for j in range(second[0] + 1, second[1] + 1):\n",
    "                            if self.terminals[i]:\n",
    "                                self.relations_table[i][j] = self.relations_table[second[0]][j]\n",
    "                    if not self.terminals[second[0]]:  # если корень второго -- не терминал, терминалы первого больше не терминалы\n",
    "                        for i in range(first[0], first[1] + 1):\n",
    "                            self.terminals[i] = False\n",
    "                    parser.append((first[0], second[1]))\n",
    "                elif symbol == '+':\n",
    "                    for i in range(second[0] + 1, second[1] + 1):  # подвесили потомков корня второго к корню первого\n",
    "                        self.relations_table[first[0]][i] = self.relations_table[second[0]][i]\n",
    "                    if self.terminals[second[0]]:  # если корень второго -- терминал, то корень первого тоже\n",
    "                        self.terminals[first[0]] = True\n",
    "                    parser.append((first[0], second[1]))\n",
    "                else:  # прочли символ не из алфавита\n",
    "                    self.error = True\n",
    "                    break\n",
    "        if len(parser) != 1:  # остались лишние символы\n",
    "            self.error = True\n",
    "        for vert in range(len(is_start) - 1, 0, -1):  # удаляем лишние \"фиктивные\" стартовые вершины\n",
    "            if is_start[vert]:\n",
    "                self.relations_table.pop(vert)\n",
    "                for i in range(len(self.relations_table)):\n",
    "                    self.relations_table[i].pop(vert)\n",
    "                self.terminals.pop(vert)\n",
    "\n",
    "\n",
    "def find(fsa, node, word, symbol_pos_in_word):\n",
    "    if symbol_pos_in_word == len(word):  # если прошли всё слово\n",
    "        if fsa.terminals[node]:  # если мы в терминал => слово подходит\n",
    "            return True\n",
    "        else:  # иначе не получилось\n",
    "            return False\n",
    "    for i in range(len(fsa.relations_table[node])):  # для рёбер, по которым можем пройти по текущему символу или 1, ищем дельше\n",
    "        if fsa.relations_table[node][i] == word[symbol_pos_in_word]:\n",
    "            if find(fsa, i, word, symbol_pos_in_word + 1):\n",
    "                return True\n",
    "        elif fsa.relations_table[node][i] == '1':  # не более 1 еденицы подряд по построению\n",
    "            if find(fsa, i, word, symbol_pos_in_word):\n",
    "                return True\n",
    "    return False  # если не нашли путь из этой вершины, возвращаем False\n",
    "\n",
    "\n",
    "def print_max_suff_length(fsa, word):\n",
    "    for first_symb in range(len(word) + 1):  # идём по симолам слова\n",
    "        if find(fsa, 0, word, first_symb):  # пока суфикс, начинающийся с этого символа, не из нашего языка\n",
    "            print(len(word) - first_symb)  # если нашли, пишем длину суфикса (она максимальна, т.к. все большие проверили ранее)\n",
    "            return\n",
    "    print(\"INF\")  # если не нашли, пишем INF (это происходит, например, в случае \"a\",\"b\")\n",
    "    return\n",
    "\n",
    "\n",
    "def print_fsa(fsa):  # код для отрисовки\n",
    "    f = Digraph('finite_state_machine', filename='fsm.gv')\n",
    "    f.attr(rankdir='LR', size='6')\n",
    "    f.attr('node', shape='doublecircle')\n",
    "    for vert in range(len(fsa.terminals)):  # добавили терминальные вершины\n",
    "        if fsa.terminals[vert]:\n",
    "            f.node(str(vert))\n",
    "    f.attr('node', shape='circle')\n",
    "    is_visited = [False for i in range(len(fsa.terminals))]  # обработтаные вершины\n",
    "    queue = coll.deque()  # очередь обработки\n",
    "    queue.append(0)  # добавим стартовуб вершину\n",
    "    is_visited[0] = True\n",
    "    while (len(queue) != 0):\n",
    "        vert = queue.popleft()  # извлекаем первый элемент из очереди\n",
    "        for edge in range(len(fsa.relations_table[vert])):  # для всех его потомков\n",
    "            if fsa.relations_table[vert][edge] != '0':\n",
    "                f.edge(str(vert), str(edge), label=fsa.relations_table[vert][edge])  # добавим рёбра в рисуемый граф\n",
    "                if not is_visited[edge]:  # добавим непосещённых потомков в очередь\n",
    "                    queue.append(edge)\n",
    "                    is_visited[edge] = True\n",
    "    f.view()  # просмотреть рисунок автомата\n",
    "\n",
    "\n",
    "reg_exp = input()\n",
    "word = input()  # прочли регулярку в обратной польской записи и слово, разделённые переносом строки БЕЗ ПРОБЕЛОВ\n",
    "fsa = FSA(reg_exp)  # распарсили регулярку в НКА\n",
    "if fsa.error:  # если регулярка была некорректна, пишем ERROR\n",
    "    print(\"ERROR\")\n",
    "else:  # иначе\n",
    "    print_max_suff_length(fsa, word)  # пишем длину самого длинного суфикса слова, принадлежащего яыку, задаваемому регуляркой\n",
    "    print_fsa(fsa)  # рисуем НКА"
   ]
  },
  {
   "cell_type": "code",
   "execution_count": 14,
   "metadata": {},
   "outputs": [
    {
     "name": "stdout",
     "output_type": "stream",
     "text": [
      "acb..bab.c.*.ab.ba.+.+*a.\n",
      "cbaa\n",
      "1\n"
     ]
    }
   ],
   "source": [
    "reg_exp = input()\n",
    "word = input()  # прочли регулярку в обратной польской записи и слово, разделённые переносом строки БЕЗ ПРОБЕЛОВ\n",
    "fsa = FSA(reg_exp)  # распарсили регулярку в НКА\n",
    "if fsa.error:  # если регулярка была некорректна, пишем ERROR\n",
    "    print(\"ERROR\")\n",
    "else:  # иначе\n",
    "    print_max_suff_length(fsa, word)  # пишем длину самого длинного суфикса слова, принадлежащего яыку, задаваемому регуляркой\n",
    "    print_fsa(fsa)  # рисуем НКА"
   ]
  },
  {
   "cell_type": "markdown",
   "metadata": {
    "collapsed": true
   },
   "source": [
    "Повторюсь, что на тестах лектора решение верное, автоматы строятся верно, пусть и, возможно, не оптимально.\n",
    "Далее вы можете видеть сами автоматы для тестов ab+c.aba.∗.bac.+.+∗ babc и acb..bab.c.∗.ab.ba.+.+∗a. cbaa соответственно:"
   ]
  },
  {
   "cell_type": "markdown",
   "metadata": {},
   "source": [
    "Если попытаетесь воспроизвести результаты в ноутбуке, звёздочки перепечатайте с клавиатуры"
   ]
  }
 ],
 "metadata": {
  "kernelspec": {
   "display_name": "Python 3",
   "language": "python",
   "name": "python3"
  },
  "language_info": {
   "codemirror_mode": {
    "name": "ipython",
    "version": 3
   },
   "file_extension": ".py",
   "mimetype": "text/x-python",
   "name": "python",
   "nbconvert_exporter": "python",
   "pygments_lexer": "ipython3",
   "version": "3.8.3"
  }
 },
 "nbformat": 4,
 "nbformat_minor": 2
}
